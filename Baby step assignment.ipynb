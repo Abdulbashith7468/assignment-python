{
 "cells": [
  {
   "cell_type": "code",
   "execution_count": 2,
   "id": "9f2664e3-e988-438c-b43e-1c9338596f66",
   "metadata": {},
   "outputs": [
    {
     "name": "stdout",
     "output_type": "stream",
     "text": [
      "Welcome To ASSignment-1\n"
     ]
    }
   ],
   "source": [
    "print(\"Welcome To ASSignment-1\")"
   ]
  },
  {
   "cell_type": "code",
   "execution_count": 3,
   "id": "acba3ab1-eb05-4d6f-9e63-12869a22495e",
   "metadata": {},
   "outputs": [],
   "source": [
    "Num1=10"
   ]
  },
  {
   "cell_type": "code",
   "execution_count": 4,
   "id": "1f2be556-a297-4a0f-9287-083d67006a35",
   "metadata": {},
   "outputs": [],
   "source": [
    "Num2=30"
   ]
  },
  {
   "cell_type": "code",
   "execution_count": 5,
   "id": "951f70ba-8f2e-4e04-91ba-97492e338bd4",
   "metadata": {},
   "outputs": [],
   "source": [
    "Add=Num1+Num2"
   ]
  },
  {
   "cell_type": "code",
   "execution_count": 8,
   "id": "45494040-3046-4b10-ba72-889b20019d9b",
   "metadata": {},
   "outputs": [
    {
     "name": "stdout",
     "output_type": "stream",
     "text": [
      "Num1: 10\n",
      "Num2: 30\n",
      "Add: 40\n"
     ]
    }
   ],
   "source": [
    "print(\"Num1:\",Num1)\n",
    "print(\"Num2:\",Num2)\n",
    "print(\"Add:\",Add)"
   ]
  },
  {
   "cell_type": "code",
   "execution_count": 16,
   "id": "4ec0ed69-aaa0-49e7-a528-ab2ab703d0ba",
   "metadata": {},
   "outputs": [
    {
     "name": "stdin",
     "output_type": "stream",
     "text": [
      "enter the weight: 34\n"
     ]
    },
    {
     "name": "stdout",
     "output_type": "stream",
     "text": [
      "Very Over Weight\n"
     ]
    }
   ],
   "source": [
    "#Body Mass Index\n",
    "weight=int(input(\"enter the weight:\",))\n",
    "if(weight<18.5):\n",
    "    print(\"Under Weight\")\n",
    "elif(weight<=24.9):\n",
    "    print(\"Normal Weight\")\n",
    "elif(weight<=29.9):\n",
    "    print(\"Over Weight\")\n",
    "else:\n",
    "    print(\"Very Over Weight\")"
   ]
  },
  {
   "cell_type": "code",
   "execution_count": null,
   "id": "a19b3c7b-3d56-4e9c-8e94-eed8cff96248",
   "metadata": {},
   "outputs": [],
   "source": []
  }
 ],
 "metadata": {
  "kernelspec": {
   "display_name": "Python 3 (ipykernel)",
   "language": "python",
   "name": "python3"
  },
  "language_info": {
   "codemirror_mode": {
    "name": "ipython",
    "version": 3
   },
   "file_extension": ".py",
   "mimetype": "text/x-python",
   "name": "python",
   "nbconvert_exporter": "python",
   "pygments_lexer": "ipython3",
   "version": "3.12.4"
  }
 },
 "nbformat": 4,
 "nbformat_minor": 5
}
